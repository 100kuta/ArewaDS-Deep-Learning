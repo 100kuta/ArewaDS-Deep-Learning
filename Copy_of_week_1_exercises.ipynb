{
  "cells": [
    {
      "cell_type": "markdown",
      "metadata": {
        "id": "view-in-github",
        "colab_type": "text"
      },
      "source": [
        "<a href=\"https://colab.research.google.com/github/100kuta/ArewaDS-Deep-Learning/blob/main/Copy_of_week_1_exercises.ipynb\" target=\"_parent\"><img src=\"https://colab.research.google.com/assets/colab-badge.svg\" alt=\"Open In Colab\"/></a>"
      ]
    },
    {
      "cell_type": "markdown",
      "metadata": {
        "id": "7B4x-uJ-n1pz"
      },
      "source": [
        "<a href=\"https://colab.research.google.com/github/arewadataScience/ArewaDS-Deep-Learning/blob/main/Part_1_Deep_Learning_with_Pytorch/week1/week_1_exercises.ipynb\" target=\"_parent\"><img src=\"https://colab.research.google.com/assets/colab-badge.svg\" alt=\"Open In Colab\"/></a>"
      ]
    },
    {
      "cell_type": "markdown",
      "metadata": {
        "id": "7f25OxiAn1p3"
      },
      "source": [
        "## Arewa DataScience Academy\n",
        "### Deep Learning Cohort 1.0\n",
        "\n",
        "### WEEK 1 Exercises"
      ]
    },
    {
      "cell_type": "markdown",
      "metadata": {
        "id": "CU1nksGOn1p4"
      },
      "source": [
        "### Exercises:\n",
        "Please, see week 1 exercises from [**Learn PyTorch for Deep Learning**: 00. Pytorch Fundamentals](https://www.learnpytorch.io/00_pytorch_fundamentals/#exercises)"
      ]
    },
    {
      "cell_type": "markdown",
      "metadata": {
        "id": "ubhcxIbyn1p5"
      },
      "source": [
        "### Additional Exercise"
      ]
    },
    {
      "cell_type": "code",
      "execution_count": 1,
      "metadata": {
        "vscode": {
          "languageId": "plaintext"
        },
        "id": "X7FphfxHn1p5"
      },
      "outputs": [],
      "source": [
        "# 1. Documentation Reading"
      ]
    },
    {
      "cell_type": "code",
      "source": [
        "# 2. Create a random tensor with shape (7, 7).\n",
        "import torch\n",
        "Rand_Tensor = torch.rand(7,7)\n",
        "Rand_Tensor"
      ],
      "metadata": {
        "id": "5poohOrOqQTI",
        "colab": {
          "base_uri": "https://localhost:8080/"
        },
        "outputId": "c9d7d5b4-33d1-42de-db77-e85d1b68641f"
      },
      "execution_count": 2,
      "outputs": [
        {
          "output_type": "execute_result",
          "data": {
            "text/plain": [
              "tensor([[0.4598, 0.1682, 0.2602, 0.8425, 0.2906, 0.4930, 0.5074],\n",
              "        [0.4019, 0.2023, 0.7391, 0.8257, 0.4656, 0.7861, 0.8489],\n",
              "        [0.6488, 0.7147, 0.9114, 0.6840, 0.7235, 0.3348, 0.9850],\n",
              "        [0.2501, 0.8474, 0.1713, 0.7849, 0.8018, 0.1205, 0.3823],\n",
              "        [0.6200, 0.0146, 0.2858, 0.8066, 0.5200, 0.0378, 0.8321],\n",
              "        [0.9622, 0.4960, 0.9843, 0.9272, 0.6780, 0.6114, 0.0812],\n",
              "        [0.0282, 0.0415, 0.0074, 0.0144, 0.6142, 0.1926, 0.1577]])"
            ]
          },
          "metadata": {},
          "execution_count": 2
        }
      ]
    },
    {
      "cell_type": "code",
      "source": [
        "# 3. Perform a matrix multiplication on the tensor from 2 with another random tensor with shape (1, 7) (hint: you may have to transpose the second tensor).\n",
        "Tensor2 = torch.rand(1,7)\n",
        "multi_tensor= torch.matmul(Rand_Tensor, Tensor2.T)\n",
        "multi_tensor"
      ],
      "metadata": {
        "colab": {
          "base_uri": "https://localhost:8080/"
        },
        "id": "CX_cAwx-q5Hl",
        "outputId": "bf679278-6e72-4f06-f13d-22d705e3dec7"
      },
      "execution_count": 3,
      "outputs": [
        {
          "output_type": "execute_result",
          "data": {
            "text/plain": [
              "tensor([[1.6276],\n",
              "        [2.7310],\n",
              "        [3.0839],\n",
              "        [1.7608],\n",
              "        [1.9115],\n",
              "        [2.4311],\n",
              "        [0.8251]])"
            ]
          },
          "metadata": {},
          "execution_count": 3
        }
      ]
    },
    {
      "cell_type": "code",
      "source": [
        "# 4. Set the random seed to 0 and do exercises 2 & 3 over again.\n",
        "torch.manual_seed(0)\n",
        "Rand_Tensor = torch.rand(7,7)\n",
        "Tensor2 = torch.rand(1,7)\n",
        "multi_tensor= torch.matmul(Rand_Tensor, Tensor2.T)\n",
        "print(multi_tensor)"
      ],
      "metadata": {
        "colab": {
          "base_uri": "https://localhost:8080/"
        },
        "id": "vcOdkt8y6GnW",
        "outputId": "80d2afe2-af74-469c-f8c3-baf508936dc0"
      },
      "execution_count": null,
      "outputs": [
        {
          "output_type": "stream",
          "name": "stdout",
          "text": [
            "tensor([[1.8542],\n",
            "        [1.9611],\n",
            "        [2.2884],\n",
            "        [3.0481],\n",
            "        [1.7067],\n",
            "        [2.5290],\n",
            "        [1.7989]])\n"
          ]
        }
      ]
    },
    {
      "cell_type": "code",
      "source": [
        "''' 5. Speaking of random seeds, we saw how to set it with torch.manual_seed() but is there a GPU equivalent?\n",
        "(hint: you'll need to look into the documentation for torch.cuda for this one). If there is, set the GPU random seed to 1234.'''\n",
        "print(torch.cuda.is_available())\n",
        "torch.cuda.manual_seed(1234)"
      ],
      "metadata": {
        "id": "abDrM_wl6jno",
        "colab": {
          "base_uri": "https://localhost:8080/"
        },
        "outputId": "5e2b7f36-ec0b-43f8-b776-b039015e9db9"
      },
      "execution_count": 4,
      "outputs": [
        {
          "output_type": "stream",
          "name": "stdout",
          "text": [
            "True\n"
          ]
        }
      ]
    },
    {
      "cell_type": "code",
      "source": [
        "# 6.Create two random tensors of shape (2, 3) and send them both to the GPU (you'll need access to a GPU for this). Set torch.manual_seed(1234) when creating the tensors (this doesn't have to be the GPU random seed).\n",
        "torch.manual_seed(1234)\n",
        "Tensor1 = torch.rand(2,3).to('cuda')\n",
        "Tensor2 = torch.rand(2,3).to('cuda')\n",
        "Tensor1, Tensor2"
      ],
      "metadata": {
        "id": "KeOWTcMX6mpJ",
        "colab": {
          "base_uri": "https://localhost:8080/"
        },
        "outputId": "8483ea01-8579-475c-f22c-0771207860e6"
      },
      "execution_count": 6,
      "outputs": [
        {
          "output_type": "execute_result",
          "data": {
            "text/plain": [
              "(tensor([[0.0290, 0.4019, 0.2598],\n",
              "         [0.3666, 0.0583, 0.7006]], device='cuda:0'),\n",
              " tensor([[0.0518, 0.4681, 0.6738],\n",
              "         [0.3315, 0.7837, 0.5631]], device='cuda:0'))"
            ]
          },
          "metadata": {},
          "execution_count": 6
        }
      ]
    },
    {
      "cell_type": "code",
      "source": [
        "# 7.Perform a matrix multiplication on the tensors you created in 6 (again, you may have to adjust the shapes of one of the tensors).\n",
        "multi_tensor= torch.matmul(Tensor1, Tensor2.T)\n",
        "multi_tensor"
      ],
      "metadata": {
        "id": "7uMRWSM46maG",
        "colab": {
          "base_uri": "https://localhost:8080/"
        },
        "outputId": "14cc84f3-6bc7-46a4-b046-56ffc3206f84"
      },
      "execution_count": 7,
      "outputs": [
        {
          "output_type": "execute_result",
          "data": {
            "text/plain": [
              "tensor([[0.3647, 0.4709],\n",
              "        [0.5184, 0.5617]], device='cuda:0')"
            ]
          },
          "metadata": {},
          "execution_count": 7
        }
      ]
    },
    {
      "cell_type": "code",
      "source": [
        "# 8.Find the maximum and minimum values of the output of 7.\n",
        "print(multi_tensor.max())\n",
        "print(multi_tensor.min())"
      ],
      "metadata": {
        "id": "lt1P8v_G6mIF",
        "colab": {
          "base_uri": "https://localhost:8080/"
        },
        "outputId": "2616f53c-7e60-4cef-8db6-0a1cc977d45f"
      },
      "execution_count": 8,
      "outputs": [
        {
          "output_type": "stream",
          "name": "stdout",
          "text": [
            "tensor(0.5617, device='cuda:0')\n",
            "tensor(0.3647, device='cuda:0')\n"
          ]
        }
      ]
    },
    {
      "cell_type": "code",
      "source": [
        "# 9. Find the maximum and minimum index values of the output of 7.\n",
        "print(multi_tensor.argmax())\n",
        "print(multi_tensor.argmin())"
      ],
      "metadata": {
        "id": "iumxbJqL6l54",
        "colab": {
          "base_uri": "https://localhost:8080/"
        },
        "outputId": "5323cbea-ffa9-4e2d-bcd1-61edde2d3e55"
      },
      "execution_count": 9,
      "outputs": [
        {
          "output_type": "stream",
          "name": "stdout",
          "text": [
            "tensor(3, device='cuda:0')\n",
            "tensor(0, device='cuda:0')\n"
          ]
        }
      ]
    },
    {
      "cell_type": "code",
      "source": [
        "# 10. Make a random tensor with shape (1, 1, 1, 10) and then create a new tensor with all the 1 dimensions removed to be left with a tensor of shape (10). Set the seed to 7 when you create it and print out the first tensor and it's shape as well as the second tensor and it's shape.\n",
        "torch.manual_seed(7)\n",
        "Tensor1_10 = torch.rand(1,1,1,10)\n",
        "Tensor2 = Tensor1_10.squeeze()\n",
        "print(Tensor1_10, Tensor1_10.shape)\n",
        "print(Tensor2, Tensor2.shape)"
      ],
      "metadata": {
        "id": "_gh2Sfrg6lif",
        "colab": {
          "base_uri": "https://localhost:8080/"
        },
        "outputId": "05e47f01-9643-4641-8d6d-2517b7b174a9"
      },
      "execution_count": 11,
      "outputs": [
        {
          "output_type": "stream",
          "name": "stdout",
          "text": [
            "tensor([[[[0.5349, 0.1988, 0.6592, 0.6569, 0.2328, 0.4251, 0.2071, 0.6297,\n",
            "           0.3653, 0.8513]]]]) torch.Size([1, 1, 1, 10])\n",
            "tensor([0.5349, 0.1988, 0.6592, 0.6569, 0.2328, 0.4251, 0.2071, 0.6297, 0.3653,\n",
            "        0.8513]) torch.Size([10])\n"
          ]
        }
      ]
    }
  ],
  "metadata": {
    "language_info": {
      "name": "python"
    },
    "colab": {
      "provenance": [],
      "gpuType": "T4",
      "include_colab_link": true
    },
    "kernelspec": {
      "name": "python3",
      "display_name": "Python 3"
    },
    "accelerator": "GPU"
  },
  "nbformat": 4,
  "nbformat_minor": 0
}